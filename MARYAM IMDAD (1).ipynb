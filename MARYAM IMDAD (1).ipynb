{
 "cells": [
  {
   "cell_type": "code",
   "execution_count": 1,
   "metadata": {},
   "outputs": [
    {
     "name": "stdout",
     "output_type": "stream",
     "text": [
      "Area of Shaded Regoin = 16.31cm³\n"
     ]
    }
   ],
   "source": [
    "#q1\n",
    "from math import pi,sqrt\n",
    "def areas():\n",
    "    base_t = 3\n",
    "    radius_c = 1.5\n",
    "    height_t = sqrt(3**2 - 1.5**2)\n",
    "    Area_T = 6 * (.5 * base_t * height_t)\n",
    "    Area_C = pi * radius_c**2\n",
    "    Shaded = Area_T-Area_C\n",
    "    print(\"Area of Shaded Regoin = {0:.{1}f}cm\\u00b3\".format(Shaded,2))\n",
    "areas()    "
   ]
  },
  {
   "cell_type": "code",
   "execution_count": 4,
   "metadata": {},
   "outputs": [
    {
     "name": "stdout",
     "output_type": "stream",
     "text": [
      "['FATIMA']\n"
     ]
    }
   ],
   "source": [
    "#q2\n",
    "def findrelation(Relation):\n",
    "    family = {'mother' : ['ATHER'] , 'father' : ['IMDAD'] ,'brother' : ['HAMZA'] , 'sister' : ['FATIMA']  }\n",
    "    if Relation.lower() in family:\n",
    "        print(family.get(Relation.lower()))\n",
    "    else:\n",
    "        print(\"Sorry Relation Does not exist in your family\")\n",
    "findrelation('SISTER')"
   ]
  },
  {
   "cell_type": "code",
   "execution_count": 3,
   "metadata": {},
   "outputs": [
    {
     "name": "stdout",
     "output_type": "stream",
     "text": [
      "Area of Shaded Regoin = 15.90cm³\n"
     ]
    }
   ],
   "source": [
    "#q3\n",
    "def area_s1():\n",
    "    base_t = 5\n",
    "    radius_c = 2.25\n",
    "    height_t = sqrt(3**2 - 1.5**2)\n",
    "    Area_T = 6 * (.5 * base_t * height_t)\n",
    "    Area_C = pi * radius_c**2\n",
    "    \n",
    "    print(\"Area of Shaded Regoin = {0:.{1}f}cm\\u00b3\".format(Area_C,2))\n",
    "    \n",
    "area_s1()"
   ]
  },
  {
   "cell_type": "code",
   "execution_count": 3,
   "metadata": {},
   "outputs": [
    {
     "name": "stdout",
     "output_type": "stream",
     "text": [
      "Enter the Numbers : 4\n",
      "Enter the Numbers : 6\n",
      "Enter the Numbers : 7\n",
      "Enter the Numbers : 9\n",
      "Enter the Numbers : 1\n",
      "Enter the Numbers : 2\n",
      "Total Sum of Even Numbers Only =  12\n"
     ]
    }
   ],
   "source": [
    "#q4\n",
    "def even():\n",
    "    x = [0,0,0,0,0,0]\n",
    "    sum = 0\n",
    "    for i in range(6):\n",
    "        x[i]=int(input(\"Enter the Numbers : \"))\n",
    "    \n",
    "    for i in x:\n",
    "        if i%2==0:\n",
    "            sum = sum + i\n",
    "    print(\"Total Sum of Even Numbers Only = \",sum)\n",
    "even()"
   ]
  },
  {
   "cell_type": "code",
   "execution_count": 7,
   "metadata": {},
   "outputs": [
    {
     "name": "stdout",
     "output_type": "stream",
     "text": [
      "Enter the Numbers : 1\n",
      "Enter the Numbers : 2\n",
      "Enter the Numbers : 3\n",
      "Enter the Numbers : 4\n",
      "Enter the Numbers : 5\n",
      "Enter the Numbers : 6\n",
      "[1, 2, 3, 4, 5, 6]\n"
     ]
    }
   ],
   "source": [
    "#q5\n",
    "def sort():\n",
    "    x = [0,0,0,0,0,0]\n",
    "    sum = 0\n",
    "    for i in range(6):\n",
    "        x[i]=int(input(\"Enter the Numbers : \"))\n",
    "    x.sort()\n",
    "    print(x)\n",
    "sort()"
   ]
  },
  {
   "cell_type": "code",
   "execution_count": 8,
   "metadata": {},
   "outputs": [
    {
     "name": "stdout",
     "output_type": "stream",
     "text": [
      "Original Area : 28.27cm² \n",
      "Area with 5% increment : 29.69cm \n",
      "\n",
      "\n",
      "Original Perimeter : 18.85cm² \n",
      "Perimeter with 5% increment : 19.79cm \n"
     ]
    }
   ],
   "source": [
    "#q6\n",
    "from math import pi\n",
    "def increment(r):\n",
    "    AreaO = pi * r**2\n",
    "    PerimeterO = 2 * pi * r\n",
    "    AreaI= (AreaO/100)*105\n",
    "    PerimeterI = (PerimeterO/100)*105\n",
    "    print(\"Original Area : {0:.{1}f}cm\\u00b2 \".format(AreaO,2))\n",
    "    print(\"Area with 5% increment : {0:.{1}f}cm \".format(AreaI,2))\n",
    "    print(\"\\n\")\n",
    "    print(\"Original Perimeter : {0:.{1}f}cm\\u00b2 \".format(PerimeterO,2))\n",
    "    print(\"Perimeter with 5% increment : {0:.{1}f}cm \".format(PerimeterI,2))\n",
    "increment(3)"
   ]
  },
  {
   "cell_type": "code",
   "execution_count": 9,
   "metadata": {},
   "outputs": [
    {
     "name": "stdout",
     "output_type": "stream",
     "text": [
      "Enter a String : 1\n",
      "Total Number of Vowels :  0\n",
      "Total Number of Constant :  1\n"
     ]
    }
   ],
   "source": [
    "#q7\n",
    "def counting():\n",
    "    total = 0\n",
    "    count = 0\n",
    "    string = input(\"Enter a String : \")\n",
    "    \n",
    "    for i in string:\n",
    "        if i in 'AEIOUaeiou':\n",
    "            total = total + 1\n",
    "        else:\n",
    "            count = count + 1\n",
    "    print(\"Total Number of Vowels : \",total)\n",
    "    print(\"Total Number of Constant : \",count)\n",
    "counting()"
   ]
  },
  {
   "cell_type": "code",
   "execution_count": 11,
   "metadata": {},
   "outputs": [
    {
     "name": "stdout",
     "output_type": "stream",
     "text": [
      "Enter length of Rectangle : 222\n",
      "Enter Bredth of Rectangle : 2222\n",
      "Original Area : 493284.00cm² \n",
      "Area with 5% increment : 532746.72cm \n",
      "\n",
      "\n",
      "Original Perimeter : 4888.00cm² \n",
      "Perimeter with 5% increment : 5279.04cm \n"
     ]
    }
   ],
   "source": [
    "#q8\n",
    "def increment():\n",
    "    l = int(input(\"Enter length of Rectangle : \"))\n",
    "    b = int(input(\"Enter Bredth of Rectangle : \"))\n",
    "    AreaO = l * b\n",
    "    PerimeterO = 2*l + 2*b\n",
    "    AreaI= (AreaO/100)*108\n",
    "    PerimeterI = (PerimeterO/100)*108\n",
    "    print(\"Original Area : {0:.{1}f}cm\\u00b2 \".format(AreaO,2))\n",
    "    print(\"Area with 5% increment : {0:.{1}f}cm \".format(AreaI,2))\n",
    "    print(\"\\n\")\n",
    "    print(\"Original Perimeter : {0:.{1}f}cm\\u00b2 \".format(PerimeterO,2))\n",
    "    print(\"Perimeter with 5% increment : {0:.{1}f}cm \".format(PerimeterI,2))\n",
    "increment()"
   ]
  },
  {
   "cell_type": "code",
   "execution_count": 12,
   "metadata": {},
   "outputs": [
    {
     "name": "stdout",
     "output_type": "stream",
     "text": [
      "Enter a Number : 3\n",
      "Enter a Number : 2\n",
      "Enter a Number : 1\n",
      "Enter a Number : 0\n",
      "Enter a Number : 1\n",
      "Enter a Number : 2\n",
      "Even Numbers :  ['2', '0', '2']\n",
      "Odd Numbers  :  ['3', '1', '1']\n"
     ]
    }
   ],
   "source": [
    "#q9\n",
    "def evod():\n",
    "    x = []\n",
    "    y = []\n",
    "    for i in range(6):\n",
    "        num = str(input(\"Enter a Number : \"))\n",
    "        if int(num)%2==0:\n",
    "            x.append(num)\n",
    "        else:\n",
    "            y.append(num)\n",
    "    print(\"Even Numbers : \",x)\n",
    "    print(\"Odd Numbers  : \",y)\n",
    "evod()"
   ]
  },
  {
   "cell_type": "code",
   "execution_count": 13,
   "metadata": {},
   "outputs": [
    {
     "name": "stdout",
     "output_type": "stream",
     "text": [
      "Number of Alphabets Used :  5\n",
      "\n",
      "Aphabets not used \n",
      "['a', 'b', 'c', 'd', 'e', 'f', 'g', 'h', 'i', 'j', 'l', 'm', 'p', 'q', 'r', 's', 't', 'v', 'x', 'y', 'z']\n"
     ]
    }
   ],
   "source": [
    "#q10\n",
    "def counter(y):\n",
    "    count = 0\n",
    "    x = ['a','b','c','d','e','f','g','h','i','j','k','l','m','n','o','p','q','r','s','t','u','v','w','x','y','z']\n",
    "    y.casefold()\n",
    "    z=['']\n",
    "    for i in y:\n",
    "        if i in x and i not in z:\n",
    "            count = count + 1 \n",
    "            c = z.append(i)\n",
    "            x.remove(i)\n",
    "    print(\"Number of Alphabets Used : \" ,count)\n",
    "    print(\"\\nAphabets not used \")\n",
    "    print(x)\n",
    "    \n",
    "counter('unknown')"
   ]
  },
  {
   "cell_type": "code",
   "execution_count": 14,
   "metadata": {},
   "outputs": [
    {
     "name": "stdout",
     "output_type": "stream",
     "text": [
      "Enter verbs : unknown\n",
      "Enter verbs : words\n",
      "Enter verbs : articles\n",
      "Enter verbs : apple\n",
      "['unknowning', 'wordsing', 'articlesing', 'appleing']\n"
     ]
    }
   ],
   "source": [
    "#q11\n",
    "def countinuous():\n",
    "    verb = ['','','','']\n",
    "    y = ['','','','']\n",
    "    for i in range(4):\n",
    "        verb[i] = input(\"Enter verbs : \")\n",
    "    \n",
    "    k = 0\n",
    "    for x in verb:\n",
    "        y[k]=x+\"ing\"\n",
    "        k = k+1\n",
    "    print(y)\n",
    "countinuous()"
   ]
  },
  {
   "cell_type": "code",
   "execution_count": 15,
   "metadata": {},
   "outputs": [
    {
     "name": "stdout",
     "output_type": "stream",
     "text": [
      "Enter radius  of Circle 1 : 25\n",
      "Enter radius of Circle 2: 30\n",
      "Area of Circle = 1963.50cm²\n",
      "Area of Circle = 2827.43cm²\n",
      "Subtracting Area of Square from Area of Circle , Remaining Area is 863.94cm²\n"
     ]
    }
   ],
   "source": [
    "#q12\n",
    "from math import pi\n",
    "def RemainingArea():\n",
    "    radius1=eval(input(\"Enter radius  of Circle 1 : \"))\n",
    "    radius2=eval(input(\"Enter radius of Circle 2: \"))\n",
    "    \n",
    "    Acircle1 = pi * radius1**2\n",
    "    print(\"Area of Circle = {0:.{1}f}cm\\u00b2\".format(Acircle1,2))\n",
    "    Acircle2 = pi * radius2**2\n",
    "    print(\"Area of Circle = {0:.{1}f}cm\\u00b2\".format(Acircle2,2))\n",
    "    \n",
    "    if Acircle1 > Acircle2 :\n",
    "        Remaining = ACircle1-Acircle2\n",
    "        print(\"Subtracting Area of Circle from Area of Square , Remaining Area is {0:.{1}f}cm\\u00b2\".format(Remaining,2))\n",
    "    elif Acircle2 > Acircle1 :\n",
    "        Remaining = Acircle2-Acircle1\n",
    "        print(\"Subtracting Area of Square from Area of Circle , Remaining Area is {0:.{1}f}cm\\u00b2\".format(Remaining,2))\n",
    "\n",
    "RemainingArea()\n"
   ]
  },
  {
   "cell_type": "code",
   "execution_count": 17,
   "metadata": {},
   "outputs": [
    {
     "name": "stdout",
     "output_type": "stream",
     "text": [
      "Enter a String : BotTle\n",
      "Total Number of Uppercase :  2\n",
      "Total Number of Lowercase :  4\n"
     ]
    }
   ],
   "source": [
    "#q13\n",
    "def counting():\n",
    "    total = 0\n",
    "    count = 0\n",
    "    string = input(\"Enter a String : \")\n",
    "    \n",
    "    for i in string:\n",
    "        if i in 'ABCDEFGHIJKLMNOPQRSTUVWXYZ':\n",
    "            total = total + 1\n",
    "        else:\n",
    "            if i in 'abbcdefghijklmnopqrstuvwxyz':\n",
    "                count = count + 1\n",
    "    print(\"Total Number of Uppercase : \",total)\n",
    "    print(\"Total Number of Lowercase : \",count)\n",
    "counting()"
   ]
  },
  {
   "cell_type": "code",
   "execution_count": 18,
   "metadata": {},
   "outputs": [
    {
     "name": "stdout",
     "output_type": "stream",
     "text": [
      "Enter Length of Rectangle 1 : 34\n",
      "Enter Bredth of Rectangle 1 : 3\n",
      "Enter Length of Rectangle 2 : 22\n",
      "Enter Bredth of Rectangle 2 : 1\n",
      "Area of Bigger rectangle subtracted from smaller Rectangle : 80.00cm²\n"
     ]
    }
   ],
   "source": [
    "#q14\n",
    "def area():\n",
    "    l1=eval(input(\"Enter Length of Rectangle 1 : \"))\n",
    "    b1=eval(input(\"Enter Bredth of Rectangle 1 : \"))\n",
    "    l2=eval(input(\"Enter Length of Rectangle 2 : \"))\n",
    "    b2=eval(input(\"Enter Bredth of Rectangle 2 : \"))\n",
    "    area1 = l1*b1\n",
    "    area2 = l2*b2\n",
    "    if area1 > area2:\n",
    "        Remaining = area1-area2\n",
    "        print(\"Area of Bigger rectangle subtracted from smaller Rectangle : {0:.{1}f}cm\\u00b2\".format(Remaining,2))\n",
    "    if area2 > area1:\n",
    "        Remaining = area2-area1\n",
    "        print(\"Area of Bigger rectangle subtracted from smaller Rectangle : {0:.{1}f}cm\\u00b2\".format(Remaining,2))  \n",
    "area()        "
   ]
  },
  {
   "cell_type": "code",
   "execution_count": 19,
   "metadata": {},
   "outputs": [
    {
     "name": "stdout",
     "output_type": "stream",
     "text": [
      "761/280\n"
     ]
    }
   ],
   "source": [
    "#q15\n",
    "def apple():\n",
    "    from fractions import Fraction\n",
    "    sum = 0\n",
    "    for i in range(1,9):\n",
    "        sum = sum + Fraction(1,i) \n",
    "        \n",
    "    print(sum)\n",
    "apple()"
   ]
  },
  {
   "cell_type": "code",
   "execution_count": 22,
   "metadata": {},
   "outputs": [
    {
     "name": "stdout",
     "output_type": "stream",
     "text": [
      "enter the height: 4\n",
      "enter the base: 2\n"
     ]
    },
    {
     "data": {
      "text/plain": [
       "4.0"
      ]
     },
     "execution_count": 22,
     "metadata": {},
     "output_type": "execute_result"
    }
   ],
   "source": [
    "#q16\n",
    "def triangle():\n",
    "    h=int(input(\"enter the height: \"))\n",
    "    b=int(input(\"enter the base: \"))\n",
    "    A=(1/2*h*b)\n",
    "    return A\n",
    "triangle()"
   ]
  },
  {
   "cell_type": "code",
   "execution_count": 2,
   "metadata": {},
   "outputs": [
    {
     "name": "stdout",
     "output_type": "stream",
     "text": [
      "Enter Fruit Name : banana\n",
      "Enter Fruit Name : mango\n",
      "Enter Fruit Name : apple\n",
      "Enter Fruit Name : orange\n",
      "Number of Unique letter :  4\n",
      "Number of Repetitive Letter :  18\n"
     ]
    }
   ],
   "source": [
    "#q17\n",
    "def counter():\n",
    "    j = ['']\n",
    "    count = 0\n",
    "    total = 0\n",
    "    fruits=['','','','']\n",
    "    for i in range(4):\n",
    "        fruits[i]=input(\"Enter Fruit Name : \")\n",
    "    for i in fruits:\n",
    "        for x in i :\n",
    "            if i in j:\n",
    "                count = count + 1 \n",
    "            if i not in j:\n",
    "                j.append(i)\n",
    "                total = total + 1 \n",
    "    print(\"Number of Unique letter : \",total)\n",
    "    print(\"Number of Repetitive Letter : \",count)\n",
    "counter()"
   ]
  },
  {
   "cell_type": "code",
   "execution_count": 1,
   "metadata": {},
   "outputs": [
    {
     "name": "stdout",
     "output_type": "stream",
     "text": [
      "Enter length of square : 10\n",
      "Enter radius of Circle : 9\n",
      "Area of Square = 20.00cm²\n",
      "Area of Circle = 254.47cm²\n",
      "Subtracting Area of Square from Area of Circle , Remaining Area is 234.47cm²\n"
     ]
    }
   ],
   "source": [
    "#q18\n",
    "from math import pi\n",
    "def RemainingArea():\n",
    "    length=eval(input(\"Enter length of square : \"))\n",
    "    radius=eval(input(\"Enter radius of Circle : \"))\n",
    "    #Area of Square\n",
    "    Asquare = 2 * length\n",
    "    print(\"Area of Square = {0:.{1}f}cm\\u00b2\".format(Asquare,2))\n",
    "    Acircle = pi * radius**2\n",
    "    print(\"Area of Circle = {0:.{1}f}cm\\u00b2\".format(Acircle,2))\n",
    "    \n",
    "    if Asquare > Acircle :\n",
    "        Remaining = Asquare-Acircle\n",
    "        print(\"Subtracting Area of Circle from Area of Square , Remaining Area is {0:.{1}f}cm\\u00b2\".format(Remaining,2))\n",
    "    elif Acircle > Asquare :\n",
    "        Remaining = Acircle-Asquare\n",
    "        print(\"Subtracting Area of Square from Area of Circle , Remaining Area is {0:.{1}f}cm\\u00b2\".format(Remaining,2))\n",
    "RemainingArea()"
   ]
  },
  {
   "cell_type": "code",
   "execution_count": null,
   "metadata": {},
   "outputs": [],
   "source": []
  }
 ],
 "metadata": {
  "kernelspec": {
   "display_name": "Python 3",
   "language": "python",
   "name": "python3"
  },
  "language_info": {
   "codemirror_mode": {
    "name": "ipython",
    "version": 3
   },
   "file_extension": ".py",
   "mimetype": "text/x-python",
   "name": "python",
   "nbconvert_exporter": "python",
   "pygments_lexer": "ipython3",
   "version": "3.7.4"
  }
 },
 "nbformat": 4,
 "nbformat_minor": 2
}
